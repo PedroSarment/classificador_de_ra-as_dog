{
  "cells": [
    {
      "cell_type": "markdown",
      "metadata": {
        "colab_type": "text",
        "id": "view-in-github"
      },
      "source": [
        "<a href=\"https://colab.research.google.com/github/PedroSarment/classificador_de_ra-as_dog/blob/main/%5Bphsp%5D_Final_Project.ipynb\" target=\"_parent\"><img src=\"https://colab.research.google.com/assets/colab-badge.svg\" alt=\"Open In Colab\"/></a>"
      ]
    },
    {
      "cell_type": "markdown",
      "metadata": {
        "id": "-TgmeTid9p-t"
      },
      "source": [
        "# Instructions for your second project\n"
      ]
    },
    {
      "cell_type": "markdown",
      "metadata": {
        "id": "Z2LRYp52_M_I"
      },
      "source": [
        "Your second project must apply some of the Deep Learning techniques that you learned during this course.\n",
        "\n",
        "**Deadline: Oct 10th**"
      ]
    },
    {
      "cell_type": "markdown",
      "metadata": {
        "id": "L1Gv9O51EMqD"
      },
      "source": [
        "### Example projects"
      ]
    },
    {
      "cell_type": "markdown",
      "metadata": {
        "id": "RhMs3bARUKRt"
      },
      "source": [
        "You can choose to do one of the example projects below or come up with something different. If you think of something different, please consult with me before you start working on your project.\n",
        "\n",
        "**Save your model and add a widget so I can test your model's predictions.**"
      ]
    },
    {
      "cell_type": "markdown",
      "metadata": {
        "id": "yWUjIfSIE784"
      },
      "source": [
        "* Improve your image classifier that you built based on [Chapter 2](https://colab.research.google.com/github/fastai/fastbook/blob/master/02_production.ipynb). Register the results before and after using the image cleaner, and also before and after applying the techniques taught in [Chapter 5](https://colab.research.google.com/github/fastai/fastbook/blob/master/05_pet_breeds.ipynb) to improve your model's accuracy.\n",
        "* Deploy your image classifier to a webpage.\n",
        "* Generalize all the steps in [Chapter 4](https://colab.research.google.com/github/fastai/fastbook/blob/master/04_mnist_basics.ipynb) using the full MNIST datasets (that is, for all digits, not just 3s and 7s). \n",
        "* Retrain the bear classifier from [Chapter 2](https://colab.research.google.com/github/fastai/fastbook/blob/master/02_production.ipynb) using multi-label classification. See if you can make it work effectively with images that don't contain any bears, including showing that information in the web application. Try an image with two different kinds of bears. Check whether the accuracy on the single-label dataset is impacted using multi-label classification.\n",
        "* Complete notebook 8 using the full MovieLens dataset, and compare your results to online benchmarks. See if you can improve your accuracy. Look on the book's website and the fast.ai forum for ideas. Note that there are more columns in the full dataset—see if you can use those too (chapter 9 might give you ideas)."
      ]
    },
    {
      "cell_type": "markdown",
      "metadata": {
        "id": "gxABzR_zBDkR"
      },
      "source": [
        "### Code written and explained in a Jupyter Notebook"
      ]
    },
    {
      "cell_type": "markdown",
      "metadata": {
        "id": "GiZa6RSQBGXh"
      },
      "source": [
        "You should write and explain your code on a Jupyter Notebook written on Google Colab."
      ]
    },
    {
      "cell_type": "markdown",
      "metadata": {
        "id": "Sp666JVgSc9J"
      },
      "source": [
        "You must submit:\n",
        "  * Your notebook\n",
        "  * Your exported model, `export.pkl`, so I can test it."
      ]
    },
    {
      "cell_type": "markdown",
      "metadata": {
        "id": "ytV62k3kTN9c"
      },
      "source": [
        "### Grading criteria"
      ]
    },
    {
      "cell_type": "markdown",
      "metadata": {
        "id": "OfuzUvt3TSgw"
      },
      "source": [
        "* Projects lacking code to load `export.pkl`, a pickle of the exported model, or a widget to test the model will get **grade 0**.\n",
        "* Projects that failed to achieve the intended training should include comments as to why the dataset failed to train the NN.\n",
        "* Don't only write code blocks, but also text blocks explaining how it all works."
      ]
    },
    {
      "cell_type": "markdown",
      "metadata": {
        "id": "shM_uGVKgPlL"
      },
      "source": [
        "# Project"
      ]
    },
    {
      "cell_type": "markdown",
      "metadata": {
        "id": "9TeYA1h8gkIw"
      },
      "source": [
        "Deploy your image classifier to a webpage."
      ]
    },
    {
      "cell_type": "markdown",
      "metadata": {
        "id": "HgVXXLLRkAto"
      },
      "source": [
        "In this project, I will use the tools presented in chapter two of the Fasbook to develop a classifier of three dog breeds, poodle, dachshund and labrador retriever."
      ]
    },
    {
      "cell_type": "code",
      "execution_count": 1,
      "metadata": {
        "colab": {
          "base_uri": "https://localhost:8080/"
        },
        "id": "N1C0IH2mkOtC",
        "outputId": "d1756727-f0a9-4414-a4dc-08cbe8ca8c68",
        "vscode": {
          "languageId": "python"
        }
      },
      "outputs": [
        {
          "name": "stdout",
          "output_type": "stream",
          "text": [
            "\u001b[K     |████████████████████████████████| 719 kB 14.3 MB/s \n",
            "\u001b[K     |████████████████████████████████| 441 kB 59.7 MB/s \n",
            "\u001b[K     |████████████████████████████████| 5.3 MB 58.9 MB/s \n",
            "\u001b[K     |████████████████████████████████| 1.3 MB 66.5 MB/s \n",
            "\u001b[K     |████████████████████████████████| 1.6 MB 53.2 MB/s \n",
            "\u001b[K     |████████████████████████████████| 163 kB 66.2 MB/s \n",
            "\u001b[K     |████████████████████████████████| 212 kB 49.1 MB/s \n",
            "\u001b[K     |████████████████████████████████| 115 kB 52.2 MB/s \n",
            "\u001b[K     |████████████████████████████████| 127 kB 55.7 MB/s \n",
            "\u001b[K     |████████████████████████████████| 115 kB 7.7 MB/s \n",
            "\u001b[K     |████████████████████████████████| 7.6 MB 56.0 MB/s \n",
            "\u001b[?25hMounted at /content/gdrive\n"
          ]
        }
      ],
      "source": [
        "#hide\n",
        "#! [ -e /content ] && pip install -Uqq fastbook\n",
        "import fastbook\n",
        "fastbook.setup_book()"
      ]
    },
    {
      "cell_type": "code",
      "execution_count": 2,
      "metadata": {
        "id": "-Wbu2zP7kT21",
        "vscode": {
          "languageId": "python"
        }
      },
      "outputs": [],
      "source": [
        "#hide\n",
        "from fastbook import *\n",
        "from fastai.vision.widgets import *"
      ]
    },
    {
      "cell_type": "markdown",
      "metadata": {
        "id": "aG8jk2jnlHiv"
      },
      "source": [
        "To create the classifier, use the Bing Image Search API, available through Microsoft Azure tools. Because of that, I add the credentials to the code.\n",
        "\n"
      ]
    },
    {
      "cell_type": "code",
      "execution_count": 3,
      "metadata": {
        "id": "bLIZRqhclCqY",
        "vscode": {
          "languageId": "python"
        }
      },
      "outputs": [],
      "source": [
        "key = os.environ.get('AZURE_SEARCH_KEY', '4d1eb657040a40b4b2787c7711fbf1dc')"
      ]
    },
    {
      "cell_type": "markdown",
      "metadata": {
        "id": "M-N69JQxlmk9"
      },
      "source": [
        "First, I create a folder for each race that I will use in the classifier."
      ]
    },
    {
      "cell_type": "code",
      "execution_count": 4,
      "metadata": {
        "id": "a_DWRWSnmArr",
        "vscode": {
          "languageId": "python"
        }
      },
      "outputs": [],
      "source": [
        "dog_breeds = 'poodle','dachshund','labrador'\n",
        "path = Path('breeds')"
      ]
    },
    {
      "cell_type": "markdown",
      "metadata": {
        "id": "Zn_IsMSSmXGI"
      },
      "source": [
        "In the next cell, I do a search on bing image search with the text \"breed name + dog\" and save the results in the folder with the respective name.\n",
        "\n",
        "\n"
      ]
    },
    {
      "cell_type": "code",
      "execution_count": 5,
      "metadata": {
        "id": "V68SN0mdmX4Z",
        "vscode": {
          "languageId": "python"
        }
      },
      "outputs": [],
      "source": [
        "if not path.exists():\n",
        "    path.mkdir()\n",
        "    for o in dog_breeds:\n",
        "        dest = (path/o)\n",
        "        dest.mkdir(exist_ok=True)\n",
        "        results = search_images_bing(key, f'{o} dog')\n",
        "        download_images(dest, urls=results.attrgot('contentUrl'))"
      ]
    },
    {
      "cell_type": "markdown",
      "metadata": {
        "id": "0amcJTmLl_9r"
      },
      "source": [
        "Checking if files have been downloaded"
      ]
    },
    {
      "cell_type": "code",
      "execution_count": 6,
      "metadata": {
        "colab": {
          "base_uri": "https://localhost:8080/"
        },
        "id": "fvKB8B3CnUO2",
        "outputId": "0f85fbae-758e-4ea5-f2d8-fb860fc53f3d",
        "vscode": {
          "languageId": "python"
        }
      },
      "outputs": [
        {
          "data": {
            "text/plain": [
              "(#441) [Path('breeds/dachshund/4016c591-5993-4b54-babb-6b6074b8abfe.jpg'),Path('breeds/dachshund/c652197a-809d-40d1-af19-3ecd5d97e484.jpg'),Path('breeds/dachshund/dabdcd1d-693d-414a-b097-2c307ccb7518.jpg'),Path('breeds/dachshund/a4316fbc-711f-45b1-ada5-4def85e56ecb.jpg'),Path('breeds/dachshund/155fe150-d714-4bcf-b34a-829f09367385.jpg'),Path('breeds/dachshund/d43d08f9-6a2e-4d08-ab97-2e7f8bc4c90d.jpg'),Path('breeds/dachshund/8786a792-36f8-4c31-9d13-36ef6c6d2893.jpg'),Path('breeds/dachshund/b7cb8b66-efb3-4751-8215-20271ace8a27.jpg'),Path('breeds/dachshund/d88b9957-0a81-4af7-ab4b-03a6a28acf04.jpeg'),Path('breeds/dachshund/e47b6704-c87f-4e4d-9cb7-b6568f2c6d10.png')...]"
            ]
          },
          "execution_count": 6,
          "metadata": {},
          "output_type": "execute_result"
        }
      ],
      "source": [
        "fns = get_image_files(path)\n",
        "fns"
      ]
    },
    {
      "cell_type": "markdown",
      "metadata": {
        "id": "Tn5ZB5Don9kv"
      },
      "source": [
        "Checking if we have corrupt files in the created folders\n",
        "\n"
      ]
    },
    {
      "cell_type": "code",
      "execution_count": 7,
      "metadata": {
        "colab": {
          "base_uri": "https://localhost:8080/"
        },
        "id": "16X1L8LdoI5x",
        "outputId": "3a0a61e3-f200-4c92-d6d1-fd5fda4620e9",
        "vscode": {
          "languageId": "python"
        }
      },
      "outputs": [
        {
          "data": {
            "text/plain": [
              "(#5) [Path('breeds/dachshund/2d6972c5-da55-4173-ada2-183ce4237661.jpeg'),Path('breeds/labrador/13bd7fc3-476f-4031-a032-5dd4d2a71d38.jpg'),Path('breeds/labrador/1a1bb0bc-736a-4aa7-ba1d-5c7ec5777f4e.jpg'),Path('breeds/poodle/91150dec-fa8e-48b5-be46-78626a3035c1.jpg'),Path('breeds/poodle/6a3f233b-1c1f-4fed-b58a-7dff226ba9e3.jpg')]"
            ]
          },
          "execution_count": 7,
          "metadata": {},
          "output_type": "execute_result"
        }
      ],
      "source": [
        "failed = verify_images(fns)\n",
        "failed"
      ]
    },
    {
      "cell_type": "markdown",
      "metadata": {
        "id": "rV1x9wqFoaFF"
      },
      "source": [
        "\n",
        "The verify_images function returned us two corrupt files, I use the unlink function to delete these two images from my folders"
      ]
    },
    {
      "cell_type": "code",
      "execution_count": 8,
      "metadata": {
        "id": "SPSINFpdo6U8",
        "vscode": {
          "languageId": "python"
        }
      },
      "outputs": [],
      "source": [
        "failed.map(Path.unlink);"
      ]
    },
    {
      "cell_type": "markdown",
      "metadata": {
        "id": "REbLKcCvo6DM"
      },
      "source": [
        "Confirming that I removed all corrupt files"
      ]
    },
    {
      "cell_type": "code",
      "execution_count": 9,
      "metadata": {
        "colab": {
          "base_uri": "https://localhost:8080/"
        },
        "id": "dufuFboopL5A",
        "outputId": "64c32653-1276-4701-9109-201c9c90a068",
        "vscode": {
          "languageId": "python"
        }
      },
      "outputs": [
        {
          "data": {
            "text/plain": [
              "(#5) [Path('breeds/dachshund/2d6972c5-da55-4173-ada2-183ce4237661.jpeg'),Path('breeds/labrador/13bd7fc3-476f-4031-a032-5dd4d2a71d38.jpg'),Path('breeds/labrador/1a1bb0bc-736a-4aa7-ba1d-5c7ec5777f4e.jpg'),Path('breeds/poodle/91150dec-fa8e-48b5-be46-78626a3035c1.jpg'),Path('breeds/poodle/6a3f233b-1c1f-4fed-b58a-7dff226ba9e3.jpg')]"
            ]
          },
          "execution_count": 9,
          "metadata": {},
          "output_type": "execute_result"
        }
      ],
      "source": [
        "failed = verify_images(fns)\n",
        "failed"
      ]
    },
    {
      "cell_type": "markdown",
      "metadata": {
        "id": "E9_VRiAsqHZV"
      },
      "source": [
        "Now I need to transform the downloaded data into DataLoeaders, for that, I first specify what type of data the dataloaders will present, how it will get this data, how the test and training sets will be divided and how the images should be adapted"
      ]
    },
    {
      "cell_type": "code",
      "execution_count": 10,
      "metadata": {
        "id": "HA-n04gLqDWW",
        "vscode": {
          "languageId": "python"
        }
      },
      "outputs": [],
      "source": [
        "breeds = DataBlock(\n",
        "    blocks=(ImageBlock, CategoryBlock), \n",
        "    get_items=get_image_files, \n",
        "    splitter=RandomSplitter(valid_pct=0.2, seed=42),\n",
        "    get_y=parent_label,\n",
        "    item_tfms=Resize(128))"
      ]
    },
    {
      "cell_type": "code",
      "execution_count": 11,
      "metadata": {
        "id": "N9UV9IDGrJ5c",
        "vscode": {
          "languageId": "python"
        }
      },
      "outputs": [],
      "source": [
        "dls = breeds.dataloaders(path)"
      ]
    },
    {
      "cell_type": "markdown",
      "metadata": {
        "id": "YbamDoU6rqtc"
      },
      "source": [
        "\n",
        "Here I use the RandomResizedCrop function to transform the images, so that the model can see the same dog in different ways"
      ]
    },
    {
      "cell_type": "code",
      "execution_count": 12,
      "metadata": {
        "colab": {
          "base_uri": "https://localhost:8080/",
          "height": 193
        },
        "id": "ub55cd48riQi",
        "outputId": "b058fbff-ee14-4826-c696-bbf60aa14ce2",
        "vscode": {
          "languageId": "python"
        }
      },
      "outputs": [
        {
          "data": {
            "image/png": "[encoded data removed]",
            "text/plain": [
              "<Figure size 864x216 with 4 Axes>"
            ]
          },
          "metadata": {
            "needs_background": "light"
          },
          "output_type": "display_data"
        }
      ],
      "source": [
        "breeds = breeds.new(item_tfms=RandomResizedCrop(128, min_scale=0.3))\n",
        "dls = breeds.dataloaders(path)\n",
        "dls.train.show_batch(max_n=4, nrows=1, unique=True)"
      ]
    },
    {
      "cell_type": "code",
      "execution_count": 13,
      "metadata": {
        "id": "sLhtT3fTsXxn",
        "vscode": {
          "languageId": "python"
        }
      },
      "outputs": [],
      "source": [
        "breeds = breeds.new(\n",
        "    item_tfms=RandomResizedCrop(224, min_scale=0.5),\n",
        "    batch_tfms=aug_transforms())\n",
        "dls = breeds.dataloaders(path)"
      ]
    },
    {
      "cell_type": "markdown",
      "metadata": {
        "id": "pCGv3P4UsfQQ"
      },
      "source": [
        "Now I can create the Learner and start training my model"
      ]
    },
    {
      "cell_type": "code",
      "execution_count": 14,
      "metadata": {
        "colab": {
          "base_uri": "https://localhost:8080/",
          "height": 377,
          "referenced_widgets": [
            "d0296dbb1d2949c4b447b6d9e26a2287",
            "ee02ddd1364e4120a79adea383d5d5e8",
            "6a5970bbd1684eeba6e15a3552ff9b41",
            "ff856be46dc54bd984b88723ee2cca7b",
            "4b02fc4441b641488cd2f59c6fa37c17",
            "6732323db3b844e3bdb82f00f9858bb7",
            "5eb49f665e2841d281fa1994a775c0c5",
            "dbafce3862e84083bb95e02c1f979e7b",
            "f3ba134390cc4da19b1f77d7859f9907",
            "bc0f0e9872534fddb77bedfc7089d7c6",
            "601abf0fad3e4b8c9460a1280d38173f"
          ]
        },
        "id": "bifJsffBskdQ",
        "outputId": "1977f5d6-d211-44ad-b341-33679019e291",
        "vscode": {
          "languageId": "python"
        }
      },
      "outputs": [
        {
          "name": "stderr",
          "output_type": "stream",
          "text": [
            "/usr/local/lib/python3.7/dist-packages/torchvision/models/_utils.py:209: UserWarning: The parameter 'pretrained' is deprecated since 0.13 and will be removed in 0.15, please use 'weights' instead.\n",
            "  f\"The parameter '{pretrained_param}' is deprecated since 0.13 and will be removed in 0.15, \"\n",
            "/usr/local/lib/python3.7/dist-packages/torchvision/models/_utils.py:223: UserWarning: Arguments other than a weight enum or `None` for 'weights' are deprecated since 0.13 and will be removed in 0.15. The current behavior is equivalent to passing `weights=ResNet18_Weights.IMAGENET1K_V1`. You can also use `weights=ResNet18_Weights.DEFAULT` to get the most up-to-date weights.\n",
            "  warnings.warn(msg)\n",
            "Downloading: \"https://download.pytorch.org/models/resnet18-f37072fd.pth\" to /root/.cache/torch/hub/checkpoints/resnet18-f37072fd.pth\n"
          ]
        },
        {
          "data": {
            "application/vnd.jupyter.widget-view+json": {
              "model_id": "d0296dbb1d2949c4b447b6d9e26a2287",
              "version_major": 2,
              "version_minor": 0
            },
            "text/plain": [
              "  0%|          | 0.00/44.7M [00:00<?, ?B/s]"
            ]
          },
          "metadata": {},
          "output_type": "display_data"
        },
        {
          "data": {
            "text/html": [
              "\n",
              "<style>\n",
              "    /* Turns off some styling */\n",
              "    progress {\n",
              "        /* gets rid of default border in Firefox and Opera. */\n",
              "        border: none;\n",
              "        /* Needs to be in here for Safari polyfill so background images work as expected. */\n",
              "        background-size: auto;\n",
              "    }\n",
              "    progress:not([value]), progress:not([value])::-webkit-progress-bar {\n",
              "        background: repeating-linear-gradient(45deg, #7e7e7e, #7e7e7e 10px, #5c5c5c 10px, #5c5c5c 20px);\n",
              "    }\n",
              "    .progress-bar-interrupted, .progress-bar-interrupted::-webkit-progress-bar {\n",
              "        background: #F44336;\n",
              "    }\n",
              "</style>\n"
            ],
            "text/plain": [
              "<IPython.core.display.HTML object>"
            ]
          },
          "metadata": {},
          "output_type": "display_data"
        },
        {
          "data": {
            "text/html": [
              "<table border=\"1\" class=\"dataframe\">\n",
              "  <thead>\n",
              "    <tr style=\"text-align: left;\">\n",
              "      <th>epoch</th>\n",
              "      <th>train_loss</th>\n",
              "      <th>valid_loss</th>\n",
              "      <th>error_rate</th>\n",
              "      <th>time</th>\n",
              "    </tr>\n",
              "  </thead>\n",
              "  <tbody>\n",
              "    <tr>\n",
              "      <td>0</td>\n",
              "      <td>1.045610</td>\n",
              "      <td>0.158584</td>\n",
              "      <td>0.080460</td>\n",
              "      <td>00:22</td>\n",
              "    </tr>\n",
              "  </tbody>\n",
              "</table>"
            ],
            "text/plain": [
              "<IPython.core.display.HTML object>"
            ]
          },
          "metadata": {},
          "output_type": "display_data"
        },
        {
          "data": {
            "text/html": [
              "\n",
              "<style>\n",
              "    /* Turns off some styling */\n",
              "    progress {\n",
              "        /* gets rid of default border in Firefox and Opera. */\n",
              "        border: none;\n",
              "        /* Needs to be in here for Safari polyfill so background images work as expected. */\n",
              "        background-size: auto;\n",
              "    }\n",
              "    progress:not([value]), progress:not([value])::-webkit-progress-bar {\n",
              "        background: repeating-linear-gradient(45deg, #7e7e7e, #7e7e7e 10px, #5c5c5c 10px, #5c5c5c 20px);\n",
              "    }\n",
              "    .progress-bar-interrupted, .progress-bar-interrupted::-webkit-progress-bar {\n",
              "        background: #F44336;\n",
              "    }\n",
              "</style>\n"
            ],
            "text/plain": [
              "<IPython.core.display.HTML object>"
            ]
          },
          "metadata": {},
          "output_type": "display_data"
        },
        {
          "data": {
            "text/html": [
              "<table border=\"1\" class=\"dataframe\">\n",
              "  <thead>\n",
              "    <tr style=\"text-align: left;\">\n",
              "      <th>epoch</th>\n",
              "      <th>train_loss</th>\n",
              "      <th>valid_loss</th>\n",
              "      <th>error_rate</th>\n",
              "      <th>time</th>\n",
              "    </tr>\n",
              "  </thead>\n",
              "  <tbody>\n",
              "    <tr>\n",
              "      <td>0</td>\n",
              "      <td>0.243933</td>\n",
              "      <td>0.060906</td>\n",
              "      <td>0.045977</td>\n",
              "      <td>00:19</td>\n",
              "    </tr>\n",
              "    <tr>\n",
              "      <td>1</td>\n",
              "      <td>0.138546</td>\n",
              "      <td>0.046529</td>\n",
              "      <td>0.022989</td>\n",
              "      <td>00:20</td>\n",
              "    </tr>\n",
              "    <tr>\n",
              "      <td>2</td>\n",
              "      <td>0.107464</td>\n",
              "      <td>0.033303</td>\n",
              "      <td>0.022989</td>\n",
              "      <td>00:20</td>\n",
              "    </tr>\n",
              "    <tr>\n",
              "      <td>3</td>\n",
              "      <td>0.083376</td>\n",
              "      <td>0.039913</td>\n",
              "      <td>0.022989</td>\n",
              "      <td>00:19</td>\n",
              "    </tr>\n",
              "  </tbody>\n",
              "</table>"
            ],
            "text/plain": [
              "<IPython.core.display.HTML object>"
            ]
          },
          "metadata": {},
          "output_type": "display_data"
        }
      ],
      "source": [
        "learn = vision_learner(dls, resnet18, metrics=error_rate)\n",
        "learn.fine_tune(4)"
      ]
    },
    {
      "cell_type": "markdown",
      "metadata": {
        "id": "FBrsXhkhtdtF"
      },
      "source": [
        "# Transforming the Model into an Online Application"
      ]
    },
    {
      "cell_type": "markdown",
      "metadata": {
        "id": "3_wCLJfI2LsA"
      },
      "source": [
        "Using the export method to export the model, so that it can be used elsewhere"
      ]
    },
    {
      "cell_type": "code",
      "execution_count": 15,
      "metadata": {
        "id": "_g3c5USWt9gT",
        "vscode": {
          "languageId": "python"
        }
      },
      "outputs": [],
      "source": [
        "learn.export()"
      ]
    },
    {
      "cell_type": "markdown",
      "metadata": {
        "id": "5YIOmDy42y54"
      },
      "source": [
        "Confirming that the export was done correctly"
      ]
    },
    {
      "cell_type": "code",
      "execution_count": 16,
      "metadata": {
        "colab": {
          "base_uri": "https://localhost:8080/"
        },
        "id": "HbPw9xcDuBeT",
        "outputId": "948a2250-2506-48a3-a15c-c348943ba034",
        "vscode": {
          "languageId": "python"
        }
      },
      "outputs": [
        {
          "data": {
            "text/plain": [
              "(#1) [Path('export.pkl')]"
            ]
          },
          "execution_count": 16,
          "metadata": {},
          "output_type": "execute_result"
        }
      ],
      "source": [
        "path = Path()\n",
        "path.ls(file_exts='.pkl')"
      ]
    },
    {
      "cell_type": "markdown",
      "metadata": {
        "id": "lFQd0upW3Dri"
      },
      "source": [
        "Now I can start creating a widget to be able to use my model\n",
        "\n",
        "The first step is to create a button to upload the image that will be classified"
      ]
    },
    {
      "cell_type": "code",
      "execution_count": 17,
      "metadata": {
        "colab": {
          "base_uri": "https://localhost:8080/",
          "height": 49,
          "referenced_widgets": [
            "4483fca787ac49c79be824077a44f8ca",
            "6e9c53d7fb84498f83363a87666ce425",
            "f77507d987e64b78bb24a4cddbdb8811"
          ]
        },
        "id": "GLE6t-xvun38",
        "outputId": "400d8989-5337-45de-8b0d-8db86ae57fcd",
        "vscode": {
          "languageId": "python"
        }
      },
      "outputs": [
        {
          "data": {
            "application/vnd.jupyter.widget-view+json": {
              "model_id": "4483fca787ac49c79be824077a44f8ca",
              "version_major": 2,
              "version_minor": 0
            },
            "text/plain": [
              "FileUpload(value={}, description='Upload')"
            ]
          },
          "metadata": {},
          "output_type": "display_data"
        }
      ],
      "source": [
        "btn_upload = widgets.FileUpload()\n",
        "btn_upload"
      ]
    },
    {
      "cell_type": "code",
      "execution_count": 25,
      "metadata": {
        "id": "iEbgnBEau17R",
        "vscode": {
          "languageId": "python"
        }
      },
      "outputs": [],
      "source": [
        "img = PILImage.create(btn_upload.data[-1])"
      ]
    },
    {
      "cell_type": "markdown",
      "metadata": {
        "id": "ESrnWKVY3bBf"
      },
      "source": [
        "Using an output widget to show the image that was uploaded"
      ]
    },
    {
      "cell_type": "code",
      "execution_count": 26,
      "metadata": {
        "colab": {
          "base_uri": "https://localhost:8080/",
          "height": 104,
          "referenced_widgets": [
            "b0f20e294830492388f91ded3d9cf177",
            "0a034415008c481d9d19df304073436e"
          ]
        },
        "id": "4b5K6uj1u7qo",
        "outputId": "e846528b-7838-4a82-bf20-5a5d9a3c5ae7",
        "vscode": {
          "languageId": "python"
        }
      },
      "outputs": [
        {
          "data": {
            "application/vnd.jupyter.widget-view+json": {
              "model_id": "b0f20e294830492388f91ded3d9cf177",
              "version_major": 2,
              "version_minor": 0
            },
            "text/plain": [
              "Output()"
            ]
          },
          "metadata": {},
          "output_type": "display_data"
        }
      ],
      "source": [
        "#hide_output\n",
        "out_pl = widgets.Output()\n",
        "out_pl.clear_output()\n",
        "with out_pl: display(img.to_thumb(128,128))\n",
        "out_pl"
      ]
    },
    {
      "cell_type": "markdown",
      "metadata": {
        "id": "h59gJ9rC3qhN"
      },
      "source": [
        "Using load_learner function to upload my model"
      ]
    },
    {
      "cell_type": "code",
      "execution_count": 21,
      "metadata": {
        "id": "vMeo0SXWvGlb",
        "vscode": {
          "languageId": "python"
        }
      },
      "outputs": [],
      "source": [
        "learn_inf = load_learner(path/'export.pkl')"
      ]
    },
    {
      "cell_type": "code",
      "execution_count": 22,
      "metadata": {
        "colab": {
          "base_uri": "https://localhost:8080/"
        },
        "id": "QKYrbDavvJPk",
        "outputId": "b281ee0b-d3a0-480f-8e27-ceb3f6994895",
        "vscode": {
          "languageId": "python"
        }
      },
      "outputs": [
        {
          "data": {
            "text/plain": [
              "['dachshund', 'labrador', 'poodle']"
            ]
          },
          "execution_count": 22,
          "metadata": {},
          "output_type": "execute_result"
        }
      ],
      "source": [
        "learn_inf.dls.vocab"
      ]
    },
    {
      "cell_type": "code",
      "execution_count": 27,
      "metadata": {
        "colab": {
          "base_uri": "https://localhost:8080/",
          "height": 17
        },
        "id": "n4hDYdlOvA_q",
        "outputId": "317e83f9-d8e5-4c8a-c44a-354501f9c5f9",
        "vscode": {
          "languageId": "python"
        }
      },
      "outputs": [
        {
          "data": {
            "text/html": [
              "\n",
              "<style>\n",
              "    /* Turns off some styling */\n",
              "    progress {\n",
              "        /* gets rid of default border in Firefox and Opera. */\n",
              "        border: none;\n",
              "        /* Needs to be in here for Safari polyfill so background images work as expected. */\n",
              "        background-size: auto;\n",
              "    }\n",
              "    progress:not([value]), progress:not([value])::-webkit-progress-bar {\n",
              "        background: repeating-linear-gradient(45deg, #7e7e7e, #7e7e7e 10px, #5c5c5c 10px, #5c5c5c 20px);\n",
              "    }\n",
              "    .progress-bar-interrupted, .progress-bar-interrupted::-webkit-progress-bar {\n",
              "        background: #F44336;\n",
              "    }\n",
              "</style>\n"
            ],
            "text/plain": [
              "<IPython.core.display.HTML object>"
            ]
          },
          "metadata": {},
          "output_type": "display_data"
        },
        {
          "data": {
            "text/html": [],
            "text/plain": [
              "<IPython.core.display.HTML object>"
            ]
          },
          "metadata": {},
          "output_type": "display_data"
        }
      ],
      "source": [
        "pred,pred_idx,probs = learn_inf.predict(img)"
      ]
    },
    {
      "cell_type": "markdown",
      "metadata": {
        "id": "XpS3RaPv33Kd"
      },
      "source": [
        "Here I create a lebel to show the prediction result"
      ]
    },
    {
      "cell_type": "code",
      "execution_count": 28,
      "metadata": {
        "colab": {
          "base_uri": "https://localhost:8080/",
          "height": 49,
          "referenced_widgets": [
            "6dc97435d0934b9198183a52c1415467",
            "2f535a9f4bc44ec690e3fd0286c3a671",
            "722e848bd3ec40e2976aa3ab192450c1"
          ]
        },
        "id": "ZYGXZUWGvRv1",
        "outputId": "0b9f10d2-d75b-482d-96ea-9c947b0d5e52",
        "vscode": {
          "languageId": "python"
        }
      },
      "outputs": [
        {
          "data": {
            "application/vnd.jupyter.widget-view+json": {
              "model_id": "6dc97435d0934b9198183a52c1415467",
              "version_major": 2,
              "version_minor": 0
            },
            "text/plain": [
              "Label(value='Prediction: dachshund; Probability: 0.8820')"
            ]
          },
          "metadata": {},
          "output_type": "display_data"
        }
      ],
      "source": [
        "#hide_output\n",
        "lbl_pred = widgets.Label()\n",
        "lbl_pred.value = f'Prediction: {pred}; Probability: {probs[pred_idx]:.04f}'\n",
        "lbl_pred"
      ]
    },
    {
      "cell_type": "markdown",
      "metadata": {
        "id": "efRuP4vJ4CEB"
      },
      "source": [
        "I need to create one more button, to rotate the model, once the image is added"
      ]
    },
    {
      "cell_type": "code",
      "execution_count": 29,
      "metadata": {
        "colab": {
          "base_uri": "https://localhost:8080/",
          "height": 49,
          "referenced_widgets": [
            "d316d8f71dc14eaca52b4010cc239079",
            "5d5610fdb35a4ef497f362ce94a23f58",
            "57bb33afa2034dbeb598575ca71e0850"
          ]
        },
        "id": "dtqe2O-3vXW_",
        "outputId": "c3c3e744-afbf-4fa7-9aa1-64dbaa288b59",
        "vscode": {
          "languageId": "python"
        }
      },
      "outputs": [
        {
          "data": {
            "application/vnd.jupyter.widget-view+json": {
              "model_id": "d316d8f71dc14eaca52b4010cc239079",
              "version_major": 2,
              "version_minor": 0
            },
            "text/plain": [
              "Button(description='Classify', style=ButtonStyle())"
            ]
          },
          "metadata": {},
          "output_type": "display_data"
        }
      ],
      "source": [
        "btn_run = widgets.Button(description='Classify')\n",
        "btn_run"
      ]
    },
    {
      "cell_type": "markdown",
      "metadata": {
        "id": "ulA3Szbl4Tqi"
      },
      "source": [
        "\n",
        "Here we define the onclick classify(change) function that will make all this work.\n",
        "\n",
        "First it receives the image that was added, then it uses the output widget to show the image, after that, it uses the learner to make the prediction and presents the result."
      ]
    },
    {
      "cell_type": "code",
      "execution_count": 30,
      "metadata": {
        "id": "wI0R7Ljdvcrw",
        "vscode": {
          "languageId": "python"
        }
      },
      "outputs": [],
      "source": [
        "def on_click_classify(change):\n",
        "    img = PILImage.create(btn_upload.data[-1])\n",
        "    out_pl.clear_output()\n",
        "    with out_pl: display(img.to_thumb(128,128))\n",
        "    pred,pred_idx,probs = learn_inf.predict(img)\n",
        "    lbl_pred.value = f'Prediction: {pred}; Probability: {probs[pred_idx]:.04f}'\n",
        "\n",
        "btn_run.on_click(on_click_classify)"
      ]
    },
    {
      "cell_type": "code",
      "execution_count": 31,
      "metadata": {
        "id": "eyES-cVIvjIU",
        "vscode": {
          "languageId": "python"
        }
      },
      "outputs": [],
      "source": [
        "btn_upload = widgets.FileUpload()"
      ]
    },
    {
      "cell_type": "markdown",
      "metadata": {
        "id": "vg_QsaSp5I2f"
      },
      "source": [
        "Finally, I add all of this in a vertical box, so I can see it all working together."
      ]
    },
    {
      "cell_type": "code",
      "execution_count": 32,
      "metadata": {
        "colab": {
          "base_uri": "https://localhost:8080/",
          "height": 232,
          "referenced_widgets": [
            "6598577473464c76b453b4a6d84e21e8",
            "bc701046e39e4a31b8f7faab5506955a",
            "6ed09439755248eda4f9ee61198497bf",
            "d316d8f71dc14eaca52b4010cc239079",
            "b0f20e294830492388f91ded3d9cf177",
            "6dc97435d0934b9198183a52c1415467",
            "6a083f250447457c8c4a5a12aaebec42",
            "c992f76b814245948b8b44e1127c6bf3",
            "d1566733089a47019a4542b7a799e2ee",
            "875d43802cff4d3abefa3a9cfa30d53d",
            "244554d20e2f4f0cafe9aa056020f7ff",
            "5d5610fdb35a4ef497f362ce94a23f58",
            "57bb33afa2034dbeb598575ca71e0850",
            "2f535a9f4bc44ec690e3fd0286c3a671",
            "722e848bd3ec40e2976aa3ab192450c1",
            "0a034415008c481d9d19df304073436e"
          ]
        },
        "id": "9kR0i8T7vl3S",
        "outputId": "778f8f77-6635-4b98-c95f-b8c8f3dc6d92",
        "vscode": {
          "languageId": "python"
        }
      },
      "outputs": [
        {
          "data": {
            "application/vnd.jupyter.widget-view+json": {
              "model_id": "6598577473464c76b453b4a6d84e21e8",
              "version_major": 2,
              "version_minor": 0
            },
            "text/plain": [
              "VBox(children=(Label(value='Select your bear!'), FileUpload(value={}, description='Upload'), Button(descriptio…"
            ]
          },
          "metadata": {},
          "output_type": "display_data"
        }
      ],
      "source": [
        "VBox([widgets.Label('Select your bear!'), \n",
        "      btn_upload, btn_run, out_pl, lbl_pred])"
      ]
    }
  ],
  "metadata": {
    "accelerator": "GPU",
    "colab": {
      "collapsed_sections": [],
      "include_colab_link": true,
      "provenance": []
    },
    "gpuClass": "standard",
    "kernelspec": {
      "display_name": "Python 3",
      "name": "python3"
    },
    "widgets": {
      "application/vnd.jupyter.widget-state+json": {
        "0a034415008c481d9d19df304073436e": {
          "model_module": "@jupyter-widgets/base",
          "model_module_version": "1.2.0",
          "model_name": "LayoutModel",
          "state": {
            "_model_module": "@jupyter-widgets/base",
            "_model_module_version": "1.2.0",
            "_model_name": "LayoutModel",
            "_view_count": null,
            "_view_module": "@jupyter-widgets/base",
            "_view_module_version": "1.2.0",
            "_view_name": "LayoutView",
            "align_content": null,
            "align_items": null,
            "align_self": null,
            "border": null,
            "bottom": null,
            "display": null,
            "flex": null,
            "flex_flow": null,
            "grid_area": null,
            "grid_auto_columns": null,
            "grid_auto_flow": null,
            "grid_auto_rows": null,
            "grid_column": null,
            "grid_gap": null,
            "grid_row": null,
            "grid_template_areas": null,
            "grid_template_columns": null,
            "grid_template_rows": null,
            "height": null,
            "justify_content": null,
            "justify_items": null,
            "left": null,
            "margin": null,
            "max_height": null,
            "max_width": null,
            "min_height": null,
            "min_width": null,
            "object_fit": null,
            "object_position": null,
            "order": null,
            "overflow": null,
            "overflow_x": null,
            "overflow_y": null,
            "padding": null,
            "right": null,
            "top": null,
            "visibility": null,
            "width": null
          }
        },
        "244554d20e2f4f0cafe9aa056020f7ff": {
          "model_module": "@jupyter-widgets/controls",
          "model_module_version": "1.5.0",
          "model_name": "ButtonStyleModel",
          "state": {
            "_model_module": "@jupyter-widgets/controls",
            "_model_module_version": "1.5.0",
            "_model_name": "ButtonStyleModel",
            "_view_count": null,
            "_view_module": "@jupyter-widgets/base",
            "_view_module_version": "1.2.0",
            "_view_name": "StyleView",
            "button_color": null,
            "font_weight": ""
          }
        },
        "2f535a9f4bc44ec690e3fd0286c3a671": {
          "model_module": "@jupyter-widgets/base",
          "model_module_version": "1.2.0",
          "model_name": "LayoutModel",
          "state": {
            "_model_module": "@jupyter-widgets/base",
            "_model_module_version": "1.2.0",
            "_model_name": "LayoutModel",
            "_view_count": null,
            "_view_module": "@jupyter-widgets/base",
            "_view_module_version": "1.2.0",
            "_view_name": "LayoutView",
            "align_content": null,
            "align_items": null,
            "align_self": null,
            "border": null,
            "bottom": null,
            "display": null,
            "flex": null,
            "flex_flow": null,
            "grid_area": null,
            "grid_auto_columns": null,
            "grid_auto_flow": null,
            "grid_auto_rows": null,
            "grid_column": null,
            "grid_gap": null,
            "grid_row": null,
            "grid_template_areas": null,
            "grid_template_columns": null,
            "grid_template_rows": null,
            "height": null,
            "justify_content": null,
            "justify_items": null,
            "left": null,
            "margin": null,
            "max_height": null,
            "max_width": null,
            "min_height": null,
            "min_width": null,
            "object_fit": null,
            "object_position": null,
            "order": null,
            "overflow": null,
            "overflow_x": null,
            "overflow_y": null,
            "padding": null,
            "right": null,
            "top": null,
            "visibility": null,
            "width": null
          }
        },
        "4483fca787ac49c79be824077a44f8ca": {
          "model_module": "@jupyter-widgets/controls",
          "model_module_version": "1.5.0",
          "model_name": "FileUploadModel",
          "state": {
            "_counter": 1,
            "_dom_classes": [],
            "_model_module": "@jupyter-widgets/controls",
            "_model_module_version": "1.5.0",
            "_model_name": "FileUploadModel",
            "_view_count": null,
            "_view_module": "@jupyter-widgets/controls",
            "_view_module_version": "1.5.0",
            "_view_name": "FileUploadView",
            "accept": "",
            "button_style": "",
            "data": [
              null
            ],
            "description": "Upload",
            "description_tooltip": null,
            "disabled": false,
            "error": "",
            "icon": "upload",
            "layout": "IPY_MODEL_6e9c53d7fb84498f83363a87666ce425",
            "metadata": [
              {
                "lastModified": 1662562525109,
                "name": "f4f07e99391031d4db9a6919bfa7440e.jpg",
                "size": 25502,
                "type": "image/jpeg"
              }
            ],
            "multiple": false,
            "style": "IPY_MODEL_f77507d987e64b78bb24a4cddbdb8811"
          }
        },
        "4b02fc4441b641488cd2f59c6fa37c17": {
          "model_module": "@jupyter-widgets/base",
          "model_module_version": "1.2.0",
          "model_name": "LayoutModel",
          "state": {
            "_model_module": "@jupyter-widgets/base",
            "_model_module_version": "1.2.0",
            "_model_name": "LayoutModel",
            "_view_count": null,
            "_view_module": "@jupyter-widgets/base",
            "_view_module_version": "1.2.0",
            "_view_name": "LayoutView",
            "align_content": null,
            "align_items": null,
            "align_self": null,
            "border": null,
            "bottom": null,
            "display": null,
            "flex": null,
            "flex_flow": null,
            "grid_area": null,
            "grid_auto_columns": null,
            "grid_auto_flow": null,
            "grid_auto_rows": null,
            "grid_column": null,
            "grid_gap": null,
            "grid_row": null,
            "grid_template_areas": null,
            "grid_template_columns": null,
            "grid_template_rows": null,
            "height": null,
            "justify_content": null,
            "justify_items": null,
            "left": null,
            "margin": null,
            "max_height": null,
            "max_width": null,
            "min_height": null,
            "min_width": null,
            "object_fit": null,
            "object_position": null,
            "order": null,
            "overflow": null,
            "overflow_x": null,
            "overflow_y": null,
            "padding": null,
            "right": null,
            "top": null,
            "visibility": null,
            "width": null
          }
        },
        "57bb33afa2034dbeb598575ca71e0850": {
          "model_module": "@jupyter-widgets/controls",
          "model_module_version": "1.5.0",
          "model_name": "ButtonStyleModel",
          "state": {
            "_model_module": "@jupyter-widgets/controls",
            "_model_module_version": "1.5.0",
            "_model_name": "ButtonStyleModel",
            "_view_count": null,
            "_view_module": "@jupyter-widgets/base",
            "_view_module_version": "1.2.0",
            "_view_name": "StyleView",
            "button_color": null,
            "font_weight": ""
          }
        },
        "5d5610fdb35a4ef497f362ce94a23f58": {
          "model_module": "@jupyter-widgets/base",
          "model_module_version": "1.2.0",
          "model_name": "LayoutModel",
          "state": {
            "_model_module": "@jupyter-widgets/base",
            "_model_module_version": "1.2.0",
            "_model_name": "LayoutModel",
            "_view_count": null,
            "_view_module": "@jupyter-widgets/base",
            "_view_module_version": "1.2.0",
            "_view_name": "LayoutView",
            "align_content": null,
            "align_items": null,
            "align_self": null,
            "border": null,
            "bottom": null,
            "display": null,
            "flex": null,
            "flex_flow": null,
            "grid_area": null,
            "grid_auto_columns": null,
            "grid_auto_flow": null,
            "grid_auto_rows": null,
            "grid_column": null,
            "grid_gap": null,
            "grid_row": null,
            "grid_template_areas": null,
            "grid_template_columns": null,
            "grid_template_rows": null,
            "height": null,
            "justify_content": null,
            "justify_items": null,
            "left": null,
            "margin": null,
            "max_height": null,
            "max_width": null,
            "min_height": null,
            "min_width": null,
            "object_fit": null,
            "object_position": null,
            "order": null,
            "overflow": null,
            "overflow_x": null,
            "overflow_y": null,
            "padding": null,
            "right": null,
            "top": null,
            "visibility": null,
            "width": null
          }
        },
        "5eb49f665e2841d281fa1994a775c0c5": {
          "model_module": "@jupyter-widgets/controls",
          "model_module_version": "1.5.0",
          "model_name": "DescriptionStyleModel",
          "state": {
            "_model_module": "@jupyter-widgets/controls",
            "_model_module_version": "1.5.0",
            "_model_name": "DescriptionStyleModel",
            "_view_count": null,
            "_view_module": "@jupyter-widgets/base",
            "_view_module_version": "1.2.0",
            "_view_name": "StyleView",
            "description_width": ""
          }
        },
        "601abf0fad3e4b8c9460a1280d38173f": {
          "model_module": "@jupyter-widgets/controls",
          "model_module_version": "1.5.0",
          "model_name": "DescriptionStyleModel",
          "state": {
            "_model_module": "@jupyter-widgets/controls",
            "_model_module_version": "1.5.0",
            "_model_name": "DescriptionStyleModel",
            "_view_count": null,
            "_view_module": "@jupyter-widgets/base",
            "_view_module_version": "1.2.0",
            "_view_name": "StyleView",
            "description_width": ""
          }
        },
        "6598577473464c76b453b4a6d84e21e8": {
          "model_module": "@jupyter-widgets/controls",
          "model_module_version": "1.5.0",
          "model_name": "VBoxModel",
          "state": {
            "_dom_classes": [],
            "_model_module": "@jupyter-widgets/controls",
            "_model_module_version": "1.5.0",
            "_model_name": "VBoxModel",
            "_view_count": null,
            "_view_module": "@jupyter-widgets/controls",
            "_view_module_version": "1.5.0",
            "_view_name": "VBoxView",
            "box_style": "",
            "children": [
              "IPY_MODEL_bc701046e39e4a31b8f7faab5506955a",
              "IPY_MODEL_6ed09439755248eda4f9ee61198497bf",
              "IPY_MODEL_d316d8f71dc14eaca52b4010cc239079",
              "IPY_MODEL_b0f20e294830492388f91ded3d9cf177",
              "IPY_MODEL_6dc97435d0934b9198183a52c1415467"
            ],
            "layout": "IPY_MODEL_6a083f250447457c8c4a5a12aaebec42"
          }
        },
        "6732323db3b844e3bdb82f00f9858bb7": {
          "model_module": "@jupyter-widgets/base",
          "model_module_version": "1.2.0",
          "model_name": "LayoutModel",
          "state": {
            "_model_module": "@jupyter-widgets/base",
            "_model_module_version": "1.2.0",
            "_model_name": "LayoutModel",
            "_view_count": null,
            "_view_module": "@jupyter-widgets/base",
            "_view_module_version": "1.2.0",
            "_view_name": "LayoutView",
            "align_content": null,
            "align_items": null,
            "align_self": null,
            "border": null,
            "bottom": null,
            "display": null,
            "flex": null,
            "flex_flow": null,
            "grid_area": null,
            "grid_auto_columns": null,
            "grid_auto_flow": null,
            "grid_auto_rows": null,
            "grid_column": null,
            "grid_gap": null,
            "grid_row": null,
            "grid_template_areas": null,
            "grid_template_columns": null,
            "grid_template_rows": null,
            "height": null,
            "justify_content": null,
            "justify_items": null,
            "left": null,
            "margin": null,
            "max_height": null,
            "max_width": null,
            "min_height": null,
            "min_width": null,
            "object_fit": null,
            "object_position": null,
            "order": null,
            "overflow": null,
            "overflow_x": null,
            "overflow_y": null,
            "padding": null,
            "right": null,
            "top": null,
            "visibility": null,
            "width": null
          }
        },
        "6a083f250447457c8c4a5a12aaebec42": {
          "model_module": "@jupyter-widgets/base",
          "model_module_version": "1.2.0",
          "model_name": "LayoutModel",
          "state": {
            "_model_module": "@jupyter-widgets/base",
            "_model_module_version": "1.2.0",
            "_model_name": "LayoutModel",
            "_view_count": null,
            "_view_module": "@jupyter-widgets/base",
            "_view_module_version": "1.2.0",
            "_view_name": "LayoutView",
            "align_content": null,
            "align_items": null,
            "align_self": null,
            "border": null,
            "bottom": null,
            "display": null,
            "flex": null,
            "flex_flow": null,
            "grid_area": null,
            "grid_auto_columns": null,
            "grid_auto_flow": null,
            "grid_auto_rows": null,
            "grid_column": null,
            "grid_gap": null,
            "grid_row": null,
            "grid_template_areas": null,
            "grid_template_columns": null,
            "grid_template_rows": null,
            "height": null,
            "justify_content": null,
            "justify_items": null,
            "left": null,
            "margin": null,
            "max_height": null,
            "max_width": null,
            "min_height": null,
            "min_width": null,
            "object_fit": null,
            "object_position": null,
            "order": null,
            "overflow": null,
            "overflow_x": null,
            "overflow_y": null,
            "padding": null,
            "right": null,
            "top": null,
            "visibility": null,
            "width": null
          }
        },
        "6a5970bbd1684eeba6e15a3552ff9b41": {
          "model_module": "@jupyter-widgets/controls",
          "model_module_version": "1.5.0",
          "model_name": "FloatProgressModel",
          "state": {
            "_dom_classes": [],
            "_model_module": "@jupyter-widgets/controls",
            "_model_module_version": "1.5.0",
            "_model_name": "FloatProgressModel",
            "_view_count": null,
            "_view_module": "@jupyter-widgets/controls",
            "_view_module_version": "1.5.0",
            "_view_name": "ProgressView",
            "bar_style": "success",
            "description": "",
            "description_tooltip": null,
            "layout": "IPY_MODEL_dbafce3862e84083bb95e02c1f979e7b",
            "max": 46830571,
            "min": 0,
            "orientation": "horizontal",
            "style": "IPY_MODEL_f3ba134390cc4da19b1f77d7859f9907",
            "value": 46830571
          }
        },
        "6dc97435d0934b9198183a52c1415467": {
          "model_module": "@jupyter-widgets/controls",
          "model_module_version": "1.5.0",
          "model_name": "LabelModel",
          "state": {
            "_dom_classes": [],
            "_model_module": "@jupyter-widgets/controls",
            "_model_module_version": "1.5.0",
            "_model_name": "LabelModel",
            "_view_count": null,
            "_view_module": "@jupyter-widgets/controls",
            "_view_module_version": "1.5.0",
            "_view_name": "LabelView",
            "description": "",
            "description_tooltip": null,
            "layout": "IPY_MODEL_2f535a9f4bc44ec690e3fd0286c3a671",
            "placeholder": "​",
            "style": "IPY_MODEL_722e848bd3ec40e2976aa3ab192450c1",
            "value": "Prediction: dachshund; Probability: 0.8820"
          }
        },
        "6e9c53d7fb84498f83363a87666ce425": {
          "model_module": "@jupyter-widgets/base",
          "model_module_version": "1.2.0",
          "model_name": "LayoutModel",
          "state": {
            "_model_module": "@jupyter-widgets/base",
            "_model_module_version": "1.2.0",
            "_model_name": "LayoutModel",
            "_view_count": null,
            "_view_module": "@jupyter-widgets/base",
            "_view_module_version": "1.2.0",
            "_view_name": "LayoutView",
            "align_content": null,
            "align_items": null,
            "align_self": null,
            "border": null,
            "bottom": null,
            "display": null,
            "flex": null,
            "flex_flow": null,
            "grid_area": null,
            "grid_auto_columns": null,
            "grid_auto_flow": null,
            "grid_auto_rows": null,
            "grid_column": null,
            "grid_gap": null,
            "grid_row": null,
            "grid_template_areas": null,
            "grid_template_columns": null,
            "grid_template_rows": null,
            "height": null,
            "justify_content": null,
            "justify_items": null,
            "left": null,
            "margin": null,
            "max_height": null,
            "max_width": null,
            "min_height": null,
            "min_width": null,
            "object_fit": null,
            "object_position": null,
            "order": null,
            "overflow": null,
            "overflow_x": null,
            "overflow_y": null,
            "padding": null,
            "right": null,
            "top": null,
            "visibility": null,
            "width": null
          }
        },
        "6ed09439755248eda4f9ee61198497bf": {
          "model_module": "@jupyter-widgets/controls",
          "model_module_version": "1.5.0",
          "model_name": "FileUploadModel",
          "state": {
            "_counter": 0,
            "_dom_classes": [],
            "_model_module": "@jupyter-widgets/controls",
            "_model_module_version": "1.5.0",
            "_model_name": "FileUploadModel",
            "_view_count": null,
            "_view_module": "@jupyter-widgets/controls",
            "_view_module_version": "1.5.0",
            "_view_name": "FileUploadView",
            "accept": "",
            "button_style": "",
            "data": [],
            "description": "Upload",
            "description_tooltip": null,
            "disabled": false,
            "error": "",
            "icon": "upload",
            "layout": "IPY_MODEL_875d43802cff4d3abefa3a9cfa30d53d",
            "metadata": [],
            "multiple": false,
            "style": "IPY_MODEL_244554d20e2f4f0cafe9aa056020f7ff"
          }
        },
        "722e848bd3ec40e2976aa3ab192450c1": {
          "model_module": "@jupyter-widgets/controls",
          "model_module_version": "1.5.0",
          "model_name": "DescriptionStyleModel",
          "state": {
            "_model_module": "@jupyter-widgets/controls",
            "_model_module_version": "1.5.0",
            "_model_name": "DescriptionStyleModel",
            "_view_count": null,
            "_view_module": "@jupyter-widgets/base",
            "_view_module_version": "1.2.0",
            "_view_name": "StyleView",
            "description_width": ""
          }
        },
        "875d43802cff4d3abefa3a9cfa30d53d": {
          "model_module": "@jupyter-widgets/base",
          "model_module_version": "1.2.0",
          "model_name": "LayoutModel",
          "state": {
            "_model_module": "@jupyter-widgets/base",
            "_model_module_version": "1.2.0",
            "_model_name": "LayoutModel",
            "_view_count": null,
            "_view_module": "@jupyter-widgets/base",
            "_view_module_version": "1.2.0",
            "_view_name": "LayoutView",
            "align_content": null,
            "align_items": null,
            "align_self": null,
            "border": null,
            "bottom": null,
            "display": null,
            "flex": null,
            "flex_flow": null,
            "grid_area": null,
            "grid_auto_columns": null,
            "grid_auto_flow": null,
            "grid_auto_rows": null,
            "grid_column": null,
            "grid_gap": null,
            "grid_row": null,
            "grid_template_areas": null,
            "grid_template_columns": null,
            "grid_template_rows": null,
            "height": null,
            "justify_content": null,
            "justify_items": null,
            "left": null,
            "margin": null,
            "max_height": null,
            "max_width": null,
            "min_height": null,
            "min_width": null,
            "object_fit": null,
            "object_position": null,
            "order": null,
            "overflow": null,
            "overflow_x": null,
            "overflow_y": null,
            "padding": null,
            "right": null,
            "top": null,
            "visibility": null,
            "width": null
          }
        },
        "b0f20e294830492388f91ded3d9cf177": {
          "model_module": "@jupyter-widgets/output",
          "model_module_version": "1.0.0",
          "model_name": "OutputModel",
          "state": {
            "_dom_classes": [],
            "_model_module": "@jupyter-widgets/output",
            "_model_module_version": "1.0.0",
            "_model_name": "OutputModel",
            "_view_count": null,
            "_view_module": "@jupyter-widgets/output",
            "_view_module_version": "1.0.0",
            "_view_name": "OutputView",
            "layout": "IPY_MODEL_0a034415008c481d9d19df304073436e",
            "msg_id": "",
            "outputs": [
              {
                "data": {
                  "image/png": "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\n",
                  "text/plain": "<PIL.Image.Image image mode=RGB size=128x87>"
                },
                "metadata": {},
                "output_type": "display_data"
              }
            ]
          }
        },
        "bc0f0e9872534fddb77bedfc7089d7c6": {
          "model_module": "@jupyter-widgets/base",
          "model_module_version": "1.2.0",
          "model_name": "LayoutModel",
          "state": {
            "_model_module": "@jupyter-widgets/base",
            "_model_module_version": "1.2.0",
            "_model_name": "LayoutModel",
            "_view_count": null,
            "_view_module": "@jupyter-widgets/base",
            "_view_module_version": "1.2.0",
            "_view_name": "LayoutView",
            "align_content": null,
            "align_items": null,
            "align_self": null,
            "border": null,
            "bottom": null,
            "display": null,
            "flex": null,
            "flex_flow": null,
            "grid_area": null,
            "grid_auto_columns": null,
            "grid_auto_flow": null,
            "grid_auto_rows": null,
            "grid_column": null,
            "grid_gap": null,
            "grid_row": null,
            "grid_template_areas": null,
            "grid_template_columns": null,
            "grid_template_rows": null,
            "height": null,
            "justify_content": null,
            "justify_items": null,
            "left": null,
            "margin": null,
            "max_height": null,
            "max_width": null,
            "min_height": null,
            "min_width": null,
            "object_fit": null,
            "object_position": null,
            "order": null,
            "overflow": null,
            "overflow_x": null,
            "overflow_y": null,
            "padding": null,
            "right": null,
            "top": null,
            "visibility": null,
            "width": null
          }
        },
        "bc701046e39e4a31b8f7faab5506955a": {
          "model_module": "@jupyter-widgets/controls",
          "model_module_version": "1.5.0",
          "model_name": "LabelModel",
          "state": {
            "_dom_classes": [],
            "_model_module": "@jupyter-widgets/controls",
            "_model_module_version": "1.5.0",
            "_model_name": "LabelModel",
            "_view_count": null,
            "_view_module": "@jupyter-widgets/controls",
            "_view_module_version": "1.5.0",
            "_view_name": "LabelView",
            "description": "",
            "description_tooltip": null,
            "layout": "IPY_MODEL_c992f76b814245948b8b44e1127c6bf3",
            "placeholder": "​",
            "style": "IPY_MODEL_d1566733089a47019a4542b7a799e2ee",
            "value": "Select your bear!"
          }
        },
        "c992f76b814245948b8b44e1127c6bf3": {
          "model_module": "@jupyter-widgets/base",
          "model_module_version": "1.2.0",
          "model_name": "LayoutModel",
          "state": {
            "_model_module": "@jupyter-widgets/base",
            "_model_module_version": "1.2.0",
            "_model_name": "LayoutModel",
            "_view_count": null,
            "_view_module": "@jupyter-widgets/base",
            "_view_module_version": "1.2.0",
            "_view_name": "LayoutView",
            "align_content": null,
            "align_items": null,
            "align_self": null,
            "border": null,
            "bottom": null,
            "display": null,
            "flex": null,
            "flex_flow": null,
            "grid_area": null,
            "grid_auto_columns": null,
            "grid_auto_flow": null,
            "grid_auto_rows": null,
            "grid_column": null,
            "grid_gap": null,
            "grid_row": null,
            "grid_template_areas": null,
            "grid_template_columns": null,
            "grid_template_rows": null,
            "height": null,
            "justify_content": null,
            "justify_items": null,
            "left": null,
            "margin": null,
            "max_height": null,
            "max_width": null,
            "min_height": null,
            "min_width": null,
            "object_fit": null,
            "object_position": null,
            "order": null,
            "overflow": null,
            "overflow_x": null,
            "overflow_y": null,
            "padding": null,
            "right": null,
            "top": null,
            "visibility": null,
            "width": null
          }
        },
        "d0296dbb1d2949c4b447b6d9e26a2287": {
          "model_module": "@jupyter-widgets/controls",
          "model_module_version": "1.5.0",
          "model_name": "HBoxModel",
          "state": {
            "_dom_classes": [],
            "_model_module": "@jupyter-widgets/controls",
            "_model_module_version": "1.5.0",
            "_model_name": "HBoxModel",
            "_view_count": null,
            "_view_module": "@jupyter-widgets/controls",
            "_view_module_version": "1.5.0",
            "_view_name": "HBoxView",
            "box_style": "",
            "children": [
              "IPY_MODEL_ee02ddd1364e4120a79adea383d5d5e8",
              "IPY_MODEL_6a5970bbd1684eeba6e15a3552ff9b41",
              "IPY_MODEL_ff856be46dc54bd984b88723ee2cca7b"
            ],
            "layout": "IPY_MODEL_4b02fc4441b641488cd2f59c6fa37c17"
          }
        },
        "d1566733089a47019a4542b7a799e2ee": {
          "model_module": "@jupyter-widgets/controls",
          "model_module_version": "1.5.0",
          "model_name": "DescriptionStyleModel",
          "state": {
            "_model_module": "@jupyter-widgets/controls",
            "_model_module_version": "1.5.0",
            "_model_name": "DescriptionStyleModel",
            "_view_count": null,
            "_view_module": "@jupyter-widgets/base",
            "_view_module_version": "1.2.0",
            "_view_name": "StyleView",
            "description_width": ""
          }
        },
        "d316d8f71dc14eaca52b4010cc239079": {
          "model_module": "@jupyter-widgets/controls",
          "model_module_version": "1.5.0",
          "model_name": "ButtonModel",
          "state": {
            "_dom_classes": [],
            "_model_module": "@jupyter-widgets/controls",
            "_model_module_version": "1.5.0",
            "_model_name": "ButtonModel",
            "_view_count": null,
            "_view_module": "@jupyter-widgets/controls",
            "_view_module_version": "1.5.0",
            "_view_name": "ButtonView",
            "button_style": "",
            "description": "Classify",
            "disabled": false,
            "icon": "",
            "layout": "IPY_MODEL_5d5610fdb35a4ef497f362ce94a23f58",
            "style": "IPY_MODEL_57bb33afa2034dbeb598575ca71e0850",
            "tooltip": ""
          }
        },
        "dbafce3862e84083bb95e02c1f979e7b": {
          "model_module": "@jupyter-widgets/base",
          "model_module_version": "1.2.0",
          "model_name": "LayoutModel",
          "state": {
            "_model_module": "@jupyter-widgets/base",
            "_model_module_version": "1.2.0",
            "_model_name": "LayoutModel",
            "_view_count": null,
            "_view_module": "@jupyter-widgets/base",
            "_view_module_version": "1.2.0",
            "_view_name": "LayoutView",
            "align_content": null,
            "align_items": null,
            "align_self": null,
            "border": null,
            "bottom": null,
            "display": null,
            "flex": null,
            "flex_flow": null,
            "grid_area": null,
            "grid_auto_columns": null,
            "grid_auto_flow": null,
            "grid_auto_rows": null,
            "grid_column": null,
            "grid_gap": null,
            "grid_row": null,
            "grid_template_areas": null,
            "grid_template_columns": null,
            "grid_template_rows": null,
            "height": null,
            "justify_content": null,
            "justify_items": null,
            "left": null,
            "margin": null,
            "max_height": null,
            "max_width": null,
            "min_height": null,
            "min_width": null,
            "object_fit": null,
            "object_position": null,
            "order": null,
            "overflow": null,
            "overflow_x": null,
            "overflow_y": null,
            "padding": null,
            "right": null,
            "top": null,
            "visibility": null,
            "width": null
          }
        },
        "ee02ddd1364e4120a79adea383d5d5e8": {
          "model_module": "@jupyter-widgets/controls",
          "model_module_version": "1.5.0",
          "model_name": "HTMLModel",
          "state": {
            "_dom_classes": [],
            "_model_module": "@jupyter-widgets/controls",
            "_model_module_version": "1.5.0",
            "_model_name": "HTMLModel",
            "_view_count": null,
            "_view_module": "@jupyter-widgets/controls",
            "_view_module_version": "1.5.0",
            "_view_name": "HTMLView",
            "description": "",
            "description_tooltip": null,
            "layout": "IPY_MODEL_6732323db3b844e3bdb82f00f9858bb7",
            "placeholder": "​",
            "style": "IPY_MODEL_5eb49f665e2841d281fa1994a775c0c5",
            "value": "100%"
          }
        },
        "f3ba134390cc4da19b1f77d7859f9907": {
          "model_module": "@jupyter-widgets/controls",
          "model_module_version": "1.5.0",
          "model_name": "ProgressStyleModel",
          "state": {
            "_model_module": "@jupyter-widgets/controls",
            "_model_module_version": "1.5.0",
            "_model_name": "ProgressStyleModel",
            "_view_count": null,
            "_view_module": "@jupyter-widgets/base",
            "_view_module_version": "1.2.0",
            "_view_name": "StyleView",
            "bar_color": null,
            "description_width": ""
          }
        },
        "f77507d987e64b78bb24a4cddbdb8811": {
          "model_module": "@jupyter-widgets/controls",
          "model_module_version": "1.5.0",
          "model_name": "ButtonStyleModel",
          "state": {
            "_model_module": "@jupyter-widgets/controls",
            "_model_module_version": "1.5.0",
            "_model_name": "ButtonStyleModel",
            "_view_count": null,
            "_view_module": "@jupyter-widgets/base",
            "_view_module_version": "1.2.0",
            "_view_name": "StyleView",
            "button_color": null,
            "font_weight": ""
          }
        },
        "ff856be46dc54bd984b88723ee2cca7b": {
          "model_module": "@jupyter-widgets/controls",
          "model_module_version": "1.5.0",
          "model_name": "HTMLModel",
          "state": {
            "_dom_classes": [],
            "_model_module": "@jupyter-widgets/controls",
            "_model_module_version": "1.5.0",
            "_model_name": "HTMLModel",
            "_view_count": null,
            "_view_module": "@jupyter-widgets/controls",
            "_view_module_version": "1.5.0",
            "_view_name": "HTMLView",
            "description": "",
            "description_tooltip": null,
            "layout": "IPY_MODEL_bc0f0e9872534fddb77bedfc7089d7c6",
            "placeholder": "​",
            "style": "IPY_MODEL_601abf0fad3e4b8c9460a1280d38173f",
            "value": " 44.7M/44.7M [00:00&lt;00:00, 136MB/s]"
          }
        }
      }
    }
  },
  "nbformat": 4,
  "nbformat_minor": 0
}
